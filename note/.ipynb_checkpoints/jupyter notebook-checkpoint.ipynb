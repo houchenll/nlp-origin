{
 "cells": [
  {
   "cell_type": "markdown",
   "id": "260d685d",
   "metadata": {},
   "source": [
    "## 快捷键\n",
    "\n",
    "[Jupyter Notebook 的快捷键](https://notebook.community/karst87/ml/00_basic/901_JupyterNotebook%20%E7%9A%84%E5%BF%AB%E6%8D%B7%E9%94%AE)\n",
    "\n",
    "### 命令模式下\n",
    "`enter` 进入编辑模式，左框线灰色  \n",
    "`esc` 进入命令模式，左框线蓝色  \n",
    "`command + enter` 退出编辑模式，执行当前代码、markdown生效  \n",
    "`ctrl + enter` 同 `command + enter`  \n",
    "`option + enter` 在command+enter的基础上，自动在下方生成并选中一个单元格  \n",
    "`y` 单元格进入代码状态  \n",
    "`m` 单元格进入markdown状态  \n",
    "`r` 单元格进入raw状态  \n",
    "`up|k` 选中上方单元格  \n",
    "`down|j` 选中下方单元格  \n",
    "`shift + k` 扩大选中上方单元格  \n",
    "`shift + j` 扩大选中下方单元格  \n",
    "`a` 在上方插入新单元  \n",
    "`b` 在下方插入新单元  \n",
    "`x` 剪切选中的单元  \n",
    "`c` 复制选中的单元  \n",
    "`shift + v` 粘贴到上方的单元  \n",
    "`v` 粘贴到下方单元  \n",
    "`z` 恢复删除的最后一个单元  \n",
    "`dd` 删除选中的单元  \n",
    "`s` 文件存盘`  "
   ]
  },
  {
   "cell_type": "code",
   "execution_count": null,
   "id": "36e22a71",
   "metadata": {},
   "outputs": [],
   "source": []
  }
 ],
 "metadata": {
  "kernelspec": {
   "display_name": "Python 3 (ipykernel)",
   "language": "python",
   "name": "python3"
  },
  "language_info": {
   "codemirror_mode": {
    "name": "ipython",
    "version": 3
   },
   "file_extension": ".py",
   "mimetype": "text/x-python",
   "name": "python",
   "nbconvert_exporter": "python",
   "pygments_lexer": "ipython3",
   "version": "3.10.10"
  }
 },
 "nbformat": 4,
 "nbformat_minor": 5
}
