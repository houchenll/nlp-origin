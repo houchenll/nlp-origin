{
 "cells": [
  {
   "cell_type": "markdown",
   "id": "d5df497b",
   "metadata": {},
   "source": [
    "## 应用上主要突破\n",
    "\n",
    "### 计算机视觉方向\n",
    "1、图片分类  \n",
    "2、物体检测和分割  \n",
    "3、样式迁移  \n",
    "4、人脸合成  \n",
    "5、文字生成图片  \n",
    "6、无人驾驶  \n",
    "\n",
    "### 自然语言处理方向\n",
    "1、文字生成。GPT、ChatGPT  "
   ]
  }
 ],
 "metadata": {
  "kernelspec": {
   "display_name": "Python 3 (ipykernel)",
   "language": "python",
   "name": "python3"
  },
  "language_info": {
   "codemirror_mode": {
    "name": "ipython",
    "version": 3
   },
   "file_extension": ".py",
   "mimetype": "text/x-python",
   "name": "python",
   "nbconvert_exporter": "python",
   "pygments_lexer": "ipython3",
   "version": "3.10.10"
  }
 },
 "nbformat": 4,
 "nbformat_minor": 5
}
