{
 "cells": [
  {
   "cell_type": "code",
   "execution_count": 27,
   "id": "988818fb",
   "metadata": {},
   "outputs": [],
   "source": [
    "import os\n",
    "\n",
    "os.makedirs(os.path.join('..', 'data'), exist_ok=True)\n",
    "data_file = os.path.join('..', 'data', 'house_tiny.csv')\n",
    "with open(data_file, 'w') as f:\n",
    "    f.write('NumRooms,Alley,Price\\n')  # 列名\n",
    "    f.write('1,Pave,127500\\n')  # 每行表示一个数据样本\n",
    "    f.write('2,NA,1106000\\n')  # NA表示not a number，表示未知数字\n",
    "    f.write('4,NA,178100\\n')\n",
    "    f.write('5,NA,140000\\n')"
   ]
  },
  {
   "cell_type": "code",
   "execution_count": 28,
   "id": "e2c924fa",
   "metadata": {
    "scrolled": false
   },
   "outputs": [
    {
     "name": "stdout",
     "output_type": "stream",
     "text": [
      "   NumRooms Alley    Price\n",
      "0         1  Pave   127500\n",
      "1         2   NaN  1106000\n",
      "2         4   NaN   178100\n",
      "3         5   NaN   140000\n"
     ]
    }
   ],
   "source": [
    "import pandas as pd\n",
    "\n",
    "data = pd.read_csv(data_file)\n",
    "print(data)"
   ]
  },
  {
   "cell_type": "markdown",
   "id": "e4294f20",
   "metadata": {},
   "source": [
    "## 处理缺失数据\n",
    "处理缺失数据，典型方法包括 `插值` 和 `删除`。  \n",
    "下方是插值法示例："
   ]
  },
  {
   "cell_type": "markdown",
   "id": "324017c3",
   "metadata": {},
   "source": [
    "处理数字"
   ]
  },
  {
   "cell_type": "code",
   "execution_count": 29,
   "id": "dd121665",
   "metadata": {},
   "outputs": [
    {
     "name": "stdout",
     "output_type": "stream",
     "text": [
      "   NumRooms Alley\n",
      "0         1  Pave\n",
      "1         2   NaN\n",
      "2         4   NaN\n",
      "3         5   NaN\n"
     ]
    }
   ],
   "source": [
    "inputs, outputs = data.iloc[:, 0:2], data.iloc[:, 2]\n",
    "# outputs\n",
    "# inputs = inputs.fillna(inputs.mean())  # 执行错误，原因待定\n",
    "print(inputs)"
   ]
  },
  {
   "cell_type": "markdown",
   "id": "1241236d",
   "metadata": {},
   "source": [
    "处理字符串。对于 inputs 中的类型值或离散值，我们将 Nan 视为一个类别。"
   ]
  },
  {
   "cell_type": "code",
   "execution_count": 30,
   "id": "19035853",
   "metadata": {},
   "outputs": [
    {
     "name": "stdout",
     "output_type": "stream",
     "text": [
      "   NumRooms  Alley_Pave  Alley_nan\n",
      "0         1        True      False\n",
      "1         2       False       True\n",
      "2         4       False       True\n",
      "3         5       False       True\n"
     ]
    }
   ],
   "source": [
    "inputs = pd.get_dummies(inputs, dummy_na=True)\n",
    "print(inputs)"
   ]
  },
  {
   "cell_type": "markdown",
   "id": "d2b8569f",
   "metadata": {},
   "source": [
    "inputs 和 outputs 中所有条目都是数值类型后，可以转换为张量格式"
   ]
  },
  {
   "cell_type": "code",
   "execution_count": 34,
   "id": "8411d3b3",
   "metadata": {},
   "outputs": [
    {
     "data": {
      "text/plain": [
       "tensor([ 127500, 1106000,  178100,  140000])"
      ]
     },
     "execution_count": 34,
     "metadata": {},
     "output_type": "execute_result"
    }
   ],
   "source": [
    "import torch\n",
    "\n",
    "# torch.tensor(inputs.values)  # 执行出错\n",
    "torch.tensor(outputs.values)\n",
    "# X, y = torch.tensor(inputs.values), torch.tensor(outputs.values)\n",
    "# X, y"
   ]
  }
 ],
 "metadata": {
  "kernelspec": {
   "display_name": "Python 3 (ipykernel)",
   "language": "python",
   "name": "python3"
  },
  "language_info": {
   "codemirror_mode": {
    "name": "ipython",
    "version": 3
   },
   "file_extension": ".py",
   "mimetype": "text/x-python",
   "name": "python",
   "nbconvert_exporter": "python",
   "pygments_lexer": "ipython3",
   "version": "3.10.10"
  }
 },
 "nbformat": 4,
 "nbformat_minor": 5
}
